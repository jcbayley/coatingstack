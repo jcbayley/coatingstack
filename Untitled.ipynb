{
 "cells": [
  {
   "cell_type": "code",
   "execution_count": 1,
   "id": "28ed1f32-b657-4581-8d32-f1686592a93d",
   "metadata": {},
   "outputs": [],
   "source": [
    "## PoCAL \n"
   ]
  },
  {
   "cell_type": "code",
   "execution_count": 2,
   "id": "2c766f86-4ddb-4987-a15c-ad08365543c3",
   "metadata": {},
   "outputs": [],
   "source": [
    "from deap import base, creator, tools\n",
    "import seaborn as sns\n",
    "import matplotlib.pyplot as plt\n",
    "import matplotlib.cm as cm\n",
    "import numpy as np\n",
    "import random\n",
    "import os \n",
    "import pocal \n",
    "from gwinc import * \n"
   ]
  },
  {
   "cell_type": "code",
   "execution_count": 6,
   "id": "7b67ba92-7d6a-4d40-9a49-7b5dfbc03571",
   "metadata": {},
   "outputs": [
    {
     "data": {
      "text/plain": [
       "<function pocal.thinfilms.pocal.electricField(self, savefile=True, savefig=True)>"
      ]
     },
     "execution_count": 6,
     "metadata": {},
     "output_type": "execute_result"
    }
   ],
   "source": [
    "pocal.pocal.electricField \n"
   ]
  },
  {
   "cell_type": "code",
   "execution_count": null,
   "id": "6b07d1ce-512c-4456-b5b7-90e7d11ad143",
   "metadata": {},
   "outputs": [],
   "source": []
  }
 ],
 "metadata": {
  "kernelspec": {
   "display_name": "Python 3 (ipykernel)",
   "language": "python",
   "name": "python3"
  },
  "language_info": {
   "codemirror_mode": {
    "name": "ipython",
    "version": 3
   },
   "file_extension": ".py",
   "mimetype": "text/x-python",
   "name": "python",
   "nbconvert_exporter": "python",
   "pygments_lexer": "ipython3",
   "version": "3.12.0"
  }
 },
 "nbformat": 4,
 "nbformat_minor": 5
}
